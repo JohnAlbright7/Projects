{
 "cells": [
  {
   "cell_type": "code",
   "execution_count": 1,
   "id": "ad98c187-4012-41de-b259-708093f06f59",
   "metadata": {
    "tags": []
   },
   "outputs": [],
   "source": [
    "from datascience import *\n",
    "import numpy as np\n",
    "import pandas as pd\n",
    "import plotly.express as px\n",
    "import math as math\n",
    "\n",
    "%matplotlib inline\n",
    "import matplotlib.pyplot as plots\n",
    "plots.style.use('fivethirtyeight')\n",
    "\n",
    "from scipy import stats\n",
    "from scipy.stats import norm\n",
    "from scipy.stats import t"
   ]
  },
  {
   "cell_type": "code",
   "execution_count": 2,
   "id": "7b3a1e28-6253-430d-a16c-987114eb13f0",
   "metadata": {
    "tags": []
   },
   "outputs": [],
   "source": [
    "def normalize_vector(vec):\n",
    "    \"\"\"Takes in a vector (1D numpy array or list) and normalizes it (makes the magnitude of the vector 1)\"\"\"\n",
    "    begin_magnitude = 0\n",
    "    new_vector = np.array([])\n",
    "    for i in range(len(vec)):\n",
    "        begin_magnitude += ((vec[i])^2)\n",
    "    actual_magnitude = np.sqrt(begin_magnitude)\n",
    "    for i in range(len(vec)):\n",
    "        new_vector = np.append(new_vector, (vec[i] / actual_magnitude))\n",
    "    return new_vector"
   ]
  },
  {
   "cell_type": "code",
   "execution_count": 3,
   "id": "57e1c4cc-7c94-480b-972e-db432ad9640b",
   "metadata": {
    "tags": []
   },
   "outputs": [],
   "source": [
    "def dot_product(vec1, vec2):\n",
    "    \"\"\"Computes the dot product of two vectors of any length given they are the same length\"\"\"\n",
    "    if len(vec1) != len(vec2):\n",
    "        print('Vectors must be of equal length!')\n",
    "        return print('Try Again')\n",
    "    running_sum = 0\n",
    "    for i in range(len(vec1)):\n",
    "        running_sum += (vec1[i] * vec2[i])\n",
    "    return running_sum"
   ]
  },
  {
   "cell_type": "code",
   "execution_count": 4,
   "id": "4064bbea-bd48-4f90-a20d-aa4406aeb08b",
   "metadata": {
    "tags": []
   },
   "outputs": [],
   "source": [
    "def vector_magnitude(vector):\n",
    "    \"\"\"Takes in a numpy array or list and returns the euclidian length of that vector as a float\"\"\"\n",
    "    length_no_sqrt = 0\n",
    "    for element in vector:\n",
    "        length_no_sqrt += element ** 2\n",
    "    return np.sqrt(length_no_sqrt)"
   ]
  },
  {
   "cell_type": "code",
   "execution_count": 5,
   "id": "394c4c1c-f0ba-4465-9a09-3bd46b04ad0a",
   "metadata": {
    "tags": []
   },
   "outputs": [],
   "source": [
    "def cross_product(vec1, vec2):\n",
    "    \"\"\"Computes the cross product of two three-dimensional vectors and returns it as a numpy array\"\"\"\n",
    "    if (len(vec1) != 3) or (len(vec2) != 3):\n",
    "        print('Vectors must be three-dimensional.')\n",
    "    elt1 = (vec1[1]*vec2[2] - vec1[2]*vec2[1])\n",
    "    elt2 = -(vec1[0]*vec2[2] - vec1[2]*vec2[0])\n",
    "    elt3 = (vec1[0]*vec2[1] - vec1[1]*vec2[0])\n",
    "    Cross_prod = np.array([elt1, elt2, elt3])\n",
    "    return Cross_prod"
   ]
  },
  {
   "cell_type": "code",
   "execution_count": 6,
   "id": "38d1ac5b-800b-43f1-87e9-aa3ee51d2660",
   "metadata": {
    "tags": []
   },
   "outputs": [],
   "source": [
    "def proj_vec1_onto_vec2(vec1, vec2):\n",
    "    \"\"\"Projects the first input vector onto the second input vector. Both vector should be in list or numpy array form. It will return the vector projection\"\"\"\n",
    "    dot1 = dot_product(vec1, vec2)\n",
    "    dot2 = dot_product(vec2, vec2)\n",
    "    return (dot1 / dot2) * np.array(vec2)"
   ]
  },
  {
   "cell_type": "code",
   "execution_count": 7,
   "id": "69bb916d-3aea-4e2c-8006-5f0bce8d470a",
   "metadata": {
    "tags": []
   },
   "outputs": [],
   "source": [
    "def matrix_multiply(A, B):\n",
    "    \"\"\"Multiplies two Matrices A and B (2d numpy array or lists) and returns the product in 2D numpy array form\n",
    "    Note that it first checks whether the multiplication is valid\n",
    "    Also Note that we are computing AB and not BA, as matrix multiplication is not commutative\"\"\"\n",
    "    A = np.array(A)\n",
    "    B = np.array(B)\n",
    "    if A.shape[1] != B.shape[0]:\n",
    "        return print('Number of rows of your first matrix must be equal to the number of columns of your second matrix!')\n",
    "    empty_matrix = [[None for row in range(B.shape[1])] for r in range(A.shape[0])]\n",
    "    for i in range(A.shape[0]):\n",
    "        for j in range(B.shape[1]):\n",
    "            vec1 = A[i]\n",
    "            vec2 = B[:, j]\n",
    "            empty_matrix[i][j] = dot_product(vec1,vec2)\n",
    "    return empty_matrix"
   ]
  },
  {
   "cell_type": "code",
   "execution_count": null,
   "id": "e4081746-a358-442e-bc47-27d83c341354",
   "metadata": {},
   "outputs": [],
   "source": []
  },
  {
   "cell_type": "code",
   "execution_count": 9,
   "id": "29e46cdf-04c4-48ec-abd4-1fa0b3053e79",
   "metadata": {
    "tags": []
   },
   "outputs": [
    {
     "data": {
      "text/plain": [
       "[[33, 45, 39, 51, 57, 75], [92, 130, 111, 149, 168, 225]]"
      ]
     },
     "execution_count": 9,
     "metadata": {},
     "output_type": "execute_result"
    }
   ],
   "source": [
    "[[1, 2], [2, 2]]\n",
    "matrix_multiply(([[3, 6], [7, 19]]), ([[5, 5, 5, 5, 5, 5,], [3, 5, 4, 6, 7, 10]]))"
   ]
  },
  {
   "cell_type": "code",
   "execution_count": null,
   "id": "4a4a1fbe-9d6f-433d-b539-a18495aecdb6",
   "metadata": {},
   "outputs": [],
   "source": []
  }
 ],
 "metadata": {
  "kernelspec": {
   "display_name": "Python 3 (ipykernel)",
   "language": "python",
   "name": "python3"
  },
  "language_info": {
   "codemirror_mode": {
    "name": "ipython",
    "version": 3
   },
   "file_extension": ".py",
   "mimetype": "text/x-python",
   "name": "python",
   "nbconvert_exporter": "python",
   "pygments_lexer": "ipython3",
   "version": "3.11.4"
  }
 },
 "nbformat": 4,
 "nbformat_minor": 5
}
